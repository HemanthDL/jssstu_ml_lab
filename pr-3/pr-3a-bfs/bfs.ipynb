{
 "cells": [
  {
   "cell_type": "code",
   "execution_count": 3,
   "metadata": {},
   "outputs": [
    {
     "name": "stdout",
     "output_type": "stream",
     "text": [
      "OPtimal Path : ['A', 'C', 'F', 'G']\n",
      "Cost : 44\n"
     ]
    }
   ],
   "source": [
    "def bfs(g,s,goal,h,p=[]):\n",
    "    open = [(0,s)]\n",
    "    closed = set()\n",
    "    closed.add(s)\n",
    "\n",
    "    while open:\n",
    "        open.sort(key = lambda x:h[x[1]],reverse=True)\n",
    "        cost,node = open.pop()\n",
    "        p.append(node)\n",
    "        if node == goal :\n",
    "            return cost,p\n",
    "        closed.add(node)\n",
    "        for n,ncost in g[node]:\n",
    "            if n not in closed:\n",
    "                closed.add(node)\n",
    "                open.append(((cost+ncost),n))\n",
    "    return None\n",
    "\n",
    "g = {\n",
    "    'A': [('B', 11), ('C', 14), ('D',7)],\n",
    "    'B': [('A', 11), ('E', 15)],\n",
    "    'C': [('A', 14), ('E', 8), ('D',18), ('F',10)],\n",
    "    'D': [('A', 7), ('F', 25), ('C',18)],\n",
    "    'E': [('B', 15), ('C', 8), ('H',9)],\n",
    "    'F': [('G', 20), ('C', 10), ('D',25)],\n",
    "    'G': [],\n",
    "    'H': [('E',9), ('G',10)]\n",
    "}\n",
    "\n",
    "h = {\n",
    "      'A': 40,\n",
    "    'B': 32,\n",
    "    'C': 25,\n",
    "    'D': 35,\n",
    "    'E': 19,\n",
    "    'F': 17,\n",
    "    'G': 0,\n",
    "    'H': 10\n",
    "}\n",
    "\n",
    "r = bfs(g,'A','G',h)\n",
    "\n",
    "if r:\n",
    "    print(f\"OPtimal Path : {r[1]}\")\n",
    "    print(f\"Cost : {r[0]}\")\n",
    "else:\n",
    "    print(\"no path found\")"
   ]
  }
 ],
 "metadata": {
  "kernelspec": {
   "display_name": "Python 3",
   "language": "python",
   "name": "python3"
  },
  "language_info": {
   "codemirror_mode": {
    "name": "ipython",
    "version": 3
   },
   "file_extension": ".py",
   "mimetype": "text/x-python",
   "name": "python",
   "nbconvert_exporter": "python",
   "pygments_lexer": "ipython3",
   "version": "3.12.3"
  }
 },
 "nbformat": 4,
 "nbformat_minor": 2
}
