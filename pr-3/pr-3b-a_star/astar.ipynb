{
 "cells": [
  {
   "cell_type": "code",
   "execution_count": 4,
   "metadata": {},
   "outputs": [
    {
     "name": "stdout",
     "output_type": "stream",
     "text": [
      "Path Found :  ['S', 'A', 'C', 'G']\n",
      "Cost :  6\n"
     ]
    }
   ],
   "source": [
    "def astar(gr,s,goal,h):\n",
    "    open = [s]\n",
    "    closed = set()\n",
    "    g = {s:0}\n",
    "    p = {s:s}\n",
    "\n",
    "    while open:\n",
    "        open.sort(key=lambda v:g[v]+h[v],reverse=True)\n",
    "        n = open.pop()\n",
    "        if n==goal:\n",
    "            cost = g[n]\n",
    "            path = []\n",
    "            while p[n]!=n:\n",
    "                path.append(n)\n",
    "                n = p[n]\n",
    "            path.append(s)\n",
    "            path.reverse()\n",
    "            print(\"Path Found : \",path)\n",
    "            print(\"Cost : \",cost)\n",
    "            return None\n",
    "        for m,wt in gr[n]:\n",
    "            if m not in open and m not in closed:\n",
    "                open.append(m)\n",
    "                p[m]=n\n",
    "                g[m]=g[n]+wt\n",
    "            else:\n",
    "                if g[m]>g[n]+wt:\n",
    "                    g[m]=g[n]+wt\n",
    "                    p[m]=n\n",
    "                    if m in closed:\n",
    "                        closed.remove(m)\n",
    "                        open.append(m)\n",
    "        closed.add(n)\n",
    "    print(\"no path\")\n",
    "    return None\n",
    "\n",
    "gr = {\n",
    "    'S': [('A', 1), ('G', 10)],\n",
    "    'A': [('B', 2), ('C', 1)],\n",
    "    'B': [('D', 5)],\n",
    "    'C': [('D', 3),('G', 4)],\n",
    "    'D': [('G', 2)]\n",
    "}\n",
    "\n",
    "h = {'A': 3, 'B': 4, 'C': 2, 'D': 6, 'G': 0, 'S': 5}\n",
    "\n",
    "astar(gr,'S','G',h)"
   ]
  }
 ],
 "metadata": {
  "kernelspec": {
   "display_name": "Python 3",
   "language": "python",
   "name": "python3"
  },
  "language_info": {
   "codemirror_mode": {
    "name": "ipython",
    "version": 3
   },
   "file_extension": ".py",
   "mimetype": "text/x-python",
   "name": "python",
   "nbconvert_exporter": "python",
   "pygments_lexer": "ipython3",
   "version": "3.12.3"
  }
 },
 "nbformat": 4,
 "nbformat_minor": 2
}
