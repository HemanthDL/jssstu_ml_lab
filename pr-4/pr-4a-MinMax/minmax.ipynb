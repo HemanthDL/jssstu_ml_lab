{
 "cells": [
  {
   "cell_type": "code",
   "execution_count": 4,
   "metadata": {},
   "outputs": [
    {
     "name": "stdout",
     "output_type": "stream",
     "text": [
      "Optimal Path : [0, 1, 3]\n",
      "Optimal Value : 3\n",
      "\n",
      "\n"
     ]
    }
   ],
   "source": [
    "class treenode:\n",
    "    def __init__(self,val,c=[]):\n",
    "        self.val=val\n",
    "        self.c=c\n",
    "\n",
    "\n",
    "def minmax(node,d,player):\n",
    "    if d==0 or not node.c:\n",
    "        return node.val,[node.val]\n",
    "    if player:\n",
    "        maxval = float(\"-inf\")\n",
    "        maxpath = []\n",
    "        for chnode in node.c:\n",
    "            chval,chpath = minmax(chnode,d-1,False)\n",
    "            if chval > maxval:\n",
    "                maxval = chval\n",
    "                maxpath = [node.val] + chpath\n",
    "        return maxval,maxpath\n",
    "    else : \n",
    "        minval = float(\"inf\")\n",
    "        minpath = []\n",
    "        for chnode in node.c:\n",
    "            chval,chpath = minmax(chnode,d-1,True)\n",
    "            if chval < minval:\n",
    "                minval = chval\n",
    "                minpath = [node.val] + chpath\n",
    "        return minval,minpath\n",
    "    \n",
    "t=treenode(0,[\n",
    "    treenode(1,[treenode(3),treenode(12)]),\n",
    "    treenode(4,[treenode(8),treenode(2)])\n",
    "])\n",
    "val,path = minmax(t,2,True)\n",
    "print(f\"Optimal Path : {path}\\nOptimal Value : {val}\\n\\n\")"
   ]
  }
 ],
 "metadata": {
  "kernelspec": {
   "display_name": "Python 3",
   "language": "python",
   "name": "python3"
  },
  "language_info": {
   "codemirror_mode": {
    "name": "ipython",
    "version": 3
   },
   "file_extension": ".py",
   "mimetype": "text/x-python",
   "name": "python",
   "nbconvert_exporter": "python",
   "pygments_lexer": "ipython3",
   "version": "3.12.3"
  }
 },
 "nbformat": 4,
 "nbformat_minor": 2
}
