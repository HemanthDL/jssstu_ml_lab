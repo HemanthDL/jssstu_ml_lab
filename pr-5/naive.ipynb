{
 "cells": [
  {
   "cell_type": "code",
   "execution_count": 5,
   "metadata": {},
   "outputs": [
    {
     "name": "stdout",
     "output_type": "stream",
     "text": [
      "For Titanic Dataset : \n",
      "\n",
      "Split 30 - 70 Accuracy : 0.7516025641025641\n",
      "Split 50 - 50 Accuracy : 0.7847533632286996\n",
      "Split 70 - 30 Accuracy : 0.7910447761194029\n",
      "Split 90 - 10 Accuracy : 0.7888888888888889\n",
      "\n",
      "For Iris DataSet(Without using external CSV File): \n",
      "Split 30 - 70 Accuracy : 0.9428571428571428\n",
      "Split 50 - 50 Accuracy : 0.9866666666666667\n",
      "Split 70 - 30 Accuracy : 0.9782608695652174\n",
      "Split 90 - 10 Accuracy : 1.0\n",
      "\n",
      "For Iris DataSet(With using external CSV File): \n",
      "Split 30 - 70 Accuracy : 0.9809523809523809\n",
      "Split 50 - 50 Accuracy : 1.0\n",
      "Split 70 - 30 Accuracy : 1.0\n",
      "Split 90 - 10 Accuracy : 1.0\n"
     ]
    }
   ],
   "source": [
    "import pandas as pd\n",
    "from sklearn.model_selection import train_test_split\n",
    "from sklearn.metrics import accuracy_score\n",
    "from sklearn.naive_bayes import GaussianNB as Classifier\n",
    "import warnings\n",
    "from seaborn import load_dataset\n",
    "warnings.filterwarnings('ignore')\n",
    "\n",
    "titanic = pd.read_csv('titanic.csv')\n",
    "iriscsv = pd.read_csv('iris.csv')\n",
    "iris = load_dataset('iris')\n",
    "\n",
    "def evaluate_naive(data,targetcol,kval):\n",
    "    for k in kval:\n",
    "        xtrain,xtest,ytrain,ytest = train_test_split(data.drop(columns=[targetcol]),data[targetcol],test_size=(1 - (k/10)),random_state=42)\n",
    "        clf = Classifier()\n",
    "        clf.fit(xtrain.values,ytrain.values)\n",
    "        ypred = clf.predict(xtest.values)\n",
    "        acc = accuracy_score(ypred,ytest)\n",
    "        print(f\"Split {k*10} - {100-k*10} Accuracy : {acc}\")\n",
    "\n",
    "titanic = titanic.drop(columns=['PassengerId','Name','Ticket','Cabin'])\n",
    "titanic['Age'].fillna(titanic['Age'].median(),inplace=True)\n",
    "titanic['Embarked'].fillna(titanic['Embarked'].mode()[0],inplace=True)\n",
    "titanic = pd.get_dummies(titanic,columns=['Sex','Embarked'])\n",
    "\n",
    "print(\"For Titanic Dataset : \\n\")\n",
    "evaluate_naive(titanic,'Survived',[3,5,7,9])\n",
    "\n",
    "#Use any one way for the iris dataset\n",
    "\n",
    "print(\"\\nFor Iris DataSet(Without using external CSV File): \")\n",
    "evaluate_naive(iris,'species',[3,5,7,9])\n",
    "\n",
    "print(\"\\nFor Iris DataSet(With using external CSV File): \")\n",
    "evaluate_naive(iriscsv,'Species',[3,5,7,9])"
   ]
  }
 ],
 "metadata": {
  "kernelspec": {
   "display_name": "Python 3",
   "language": "python",
   "name": "python3"
  },
  "language_info": {
   "codemirror_mode": {
    "name": "ipython",
    "version": 3
   },
   "file_extension": ".py",
   "mimetype": "text/x-python",
   "name": "python",
   "nbconvert_exporter": "python",
   "pygments_lexer": "ipython3",
   "version": "3.12.3"
  }
 },
 "nbformat": 4,
 "nbformat_minor": 2
}
